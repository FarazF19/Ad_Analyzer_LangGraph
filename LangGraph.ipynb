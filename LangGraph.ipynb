{
 "cells": [
  {
   "cell_type": "markdown",
   "id": "bd914f93",
   "metadata": {},
   "source": [
    "## LangGraph End-to-End App"
   ]
  },
  {
   "cell_type": "code",
   "execution_count": 1,
   "id": "d8cbc5d4",
   "metadata": {},
   "outputs": [
    {
     "ename": "DependencyException",
     "evalue": "Unable to load a default connection class\nThe following exceptions were observed: \n - The C extension needed to use libev was not found.  This probably means that you didn't have the required build dependencies when installing the driver.  See http://datastax.github.io/python-driver/installation.html#c-extensions for instructions on installing build dependencies and building the C extension.\n - Unable to import asyncore module.  Note that this module has been removed in Python 3.12 so when using the driver with this version (or anything newer) you will need to use one of the other event loop implementations.",
     "output_type": "error",
     "traceback": [
      "\u001b[31m---------------------------------------------------------------------------\u001b[39m",
      "\u001b[31mDependencyException\u001b[39m                       Traceback (most recent call last)",
      "\u001b[36mCell\u001b[39m\u001b[36m \u001b[39m\u001b[32mIn[1]\u001b[39m\u001b[32m, line 3\u001b[39m\n\u001b[32m      1\u001b[39m \u001b[38;5;28;01mimport\u001b[39;00m\u001b[38;5;250m \u001b[39m\u001b[34;01mos\u001b[39;00m\n\u001b[32m      2\u001b[39m \u001b[38;5;28;01mfrom\u001b[39;00m\u001b[38;5;250m \u001b[39m\u001b[34;01mdotenv\u001b[39;00m\u001b[38;5;250m \u001b[39m\u001b[38;5;28;01mimport\u001b[39;00m load_dotenv\n\u001b[32m----> \u001b[39m\u001b[32m3\u001b[39m \u001b[38;5;28;01mimport\u001b[39;00m\u001b[38;5;250m \u001b[39m\u001b[34;01mcassio\u001b[39;00m\n\u001b[32m      5\u001b[39m load_dotenv()\n\u001b[32m      7\u001b[39m ASTRA_DB_APP_TOKEN=os.getenv(\u001b[33m\"\u001b[39m\u001b[33mASTRA_DB_APP_TOKEN\u001b[39m\u001b[33m\"\u001b[39m)\n",
      "\u001b[36mFile \u001b[39m\u001b[32mc:\\Users\\user\\Desktop\\LangGraph-app\\venv\\Lib\\site-packages\\cassio\\__init__.py:1\u001b[39m\n\u001b[32m----> \u001b[39m\u001b[32m1\u001b[39m \u001b[38;5;28;01mfrom\u001b[39;00m\u001b[38;5;250m \u001b[39m\u001b[34;01mcassio\u001b[39;00m\u001b[34;01m.\u001b[39;00m\u001b[34;01mconfig\u001b[39;00m\u001b[38;5;250m \u001b[39m\u001b[38;5;28;01mimport\u001b[39;00m init\n\u001b[32m      3\u001b[39m __all__ = [\n\u001b[32m      4\u001b[39m     \u001b[33m\"\u001b[39m\u001b[33minit\u001b[39m\u001b[33m\"\u001b[39m,\n\u001b[32m      5\u001b[39m ]\n",
      "\u001b[36mFile \u001b[39m\u001b[32mc:\\Users\\user\\Desktop\\LangGraph-app\\venv\\Lib\\site-packages\\cassio\\config\\__init__.py:7\u001b[39m\n\u001b[32m      4\u001b[39m \u001b[38;5;28;01mfrom\u001b[39;00m\u001b[38;5;250m \u001b[39m\u001b[34;01mtyping\u001b[39;00m\u001b[38;5;250m \u001b[39m\u001b[38;5;28;01mimport\u001b[39;00m Any, Dict, List, Optional, Union\n\u001b[32m      6\u001b[39m \u001b[38;5;28;01mfrom\u001b[39;00m\u001b[38;5;250m \u001b[39m\u001b[34;01mcassandra\u001b[39;00m\u001b[34;01m.\u001b[39;00m\u001b[34;01mauth\u001b[39;00m\u001b[38;5;250m \u001b[39m\u001b[38;5;28;01mimport\u001b[39;00m PlainTextAuthProvider\n\u001b[32m----> \u001b[39m\u001b[32m7\u001b[39m \u001b[38;5;28;01mfrom\u001b[39;00m\u001b[38;5;250m \u001b[39m\u001b[34;01mcassandra\u001b[39;00m\u001b[34;01m.\u001b[39;00m\u001b[34;01mcluster\u001b[39;00m\u001b[38;5;250m \u001b[39m\u001b[38;5;28;01mimport\u001b[39;00m Cluster, NoHostAvailable, Session\n\u001b[32m      8\u001b[39m \u001b[38;5;28;01mfrom\u001b[39;00m\u001b[38;5;250m \u001b[39m\u001b[34;01mcassandra\u001b[39;00m\u001b[34;01m.\u001b[39;00m\u001b[34;01mprotocol\u001b[39;00m\u001b[38;5;250m \u001b[39m\u001b[38;5;28;01mimport\u001b[39;00m ProtocolVersion\n\u001b[32m     10\u001b[39m \u001b[38;5;28;01mfrom\u001b[39;00m\u001b[38;5;250m \u001b[39m\u001b[34;01mcassio\u001b[39;00m\u001b[34;01m.\u001b[39;00m\u001b[34;01mconfig\u001b[39;00m\u001b[34;01m.\u001b[39;00m\u001b[34;01mbundle_download\u001b[39;00m\u001b[38;5;250m \u001b[39m\u001b[38;5;28;01mimport\u001b[39;00m download_astra_bundle_url\n",
      "\u001b[36mFile \u001b[39m\u001b[32mc:\\Users\\user\\Desktop\\LangGraph-app\\venv\\Lib\\site-packages\\cassandra\\cluster.py:173\u001b[39m\n\u001b[32m    171\u001b[39m (conn_class, excs) = reduce(_connection_reduce_fn, conn_fns, (\u001b[38;5;28;01mNone\u001b[39;00m,[]))\n\u001b[32m    172\u001b[39m \u001b[38;5;28;01mif\u001b[39;00m \u001b[38;5;129;01mnot\u001b[39;00m conn_class:\n\u001b[32m--> \u001b[39m\u001b[32m173\u001b[39m     \u001b[38;5;28;01mraise\u001b[39;00m DependencyException(\u001b[33m\"\u001b[39m\u001b[33mUnable to load a default connection class\u001b[39m\u001b[33m\"\u001b[39m, excs)\n\u001b[32m    174\u001b[39m DefaultConnection = conn_class\n\u001b[32m    176\u001b[39m \u001b[38;5;66;03m# Forces load of utf8 encoding module to avoid deadlock that occurs\u001b[39;00m\n\u001b[32m    177\u001b[39m \u001b[38;5;66;03m# if code that is being imported tries to import the module in a seperate\u001b[39;00m\n\u001b[32m    178\u001b[39m \u001b[38;5;66;03m# thread.\u001b[39;00m\n\u001b[32m    179\u001b[39m \u001b[38;5;66;03m# See http://bugs.python.org/issue10923\u001b[39;00m\n",
      "\u001b[31mDependencyException\u001b[39m: Unable to load a default connection class\nThe following exceptions were observed: \n - The C extension needed to use libev was not found.  This probably means that you didn't have the required build dependencies when installing the driver.  See http://datastax.github.io/python-driver/installation.html#c-extensions for instructions on installing build dependencies and building the C extension.\n - Unable to import asyncore module.  Note that this module has been removed in Python 3.12 so when using the driver with this version (or anything newer) you will need to use one of the other event loop implementations."
     ]
    }
   ],
   "source": [
    "import os\n",
    "from dotenv import load_dotenv\n",
    "import cassio\n",
    "\n",
    "load_dotenv()\n",
    "\n",
    "ASTRA_DB_APP_TOKEN=os.getenv(\"ASTRA_DB_APP_TOKEN\")\n",
    "ASTRA_DB_CLIENT_ID=os.getenv(\"ASTRA_DB_CLIENT_ID\")\n",
    "\n",
    "## Initialize Cassio with AstraDB\n",
    "cassio.init(token=ASTRA_DB_APP_TOKEN, database_id=ASTRA_DB_CLIENT_ID)"
   ]
  },
  {
   "cell_type": "code",
   "execution_count": null,
   "id": "f486c237",
   "metadata": {},
   "outputs": [],
   "source": []
  },
  {
   "cell_type": "code",
   "execution_count": null,
   "id": "a1f5835d",
   "metadata": {},
   "outputs": [],
   "source": []
  },
  {
   "cell_type": "code",
   "execution_count": null,
   "id": "4c7113c4",
   "metadata": {},
   "outputs": [],
   "source": []
  },
  {
   "cell_type": "code",
   "execution_count": null,
   "id": "89d3a43a",
   "metadata": {},
   "outputs": [],
   "source": []
  }
 ],
 "metadata": {
  "kernelspec": {
   "display_name": "venv",
   "language": "python",
   "name": "python3"
  },
  "language_info": {
   "codemirror_mode": {
    "name": "ipython",
    "version": 3
   },
   "file_extension": ".py",
   "mimetype": "text/x-python",
   "name": "python",
   "nbconvert_exporter": "python",
   "pygments_lexer": "ipython3",
   "version": "3.13.3"
  }
 },
 "nbformat": 4,
 "nbformat_minor": 5
}
